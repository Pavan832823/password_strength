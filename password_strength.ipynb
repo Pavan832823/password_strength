{
 "cells": [
  {
   "cell_type": "code",
   "execution_count": 27,
   "id": "4f08355c-6182-40cb-8625-2743da1a9393",
   "metadata": {},
   "outputs": [
    {
     "name": "stdout",
     "output_type": "stream",
     "text": [
      "Model Accuracy: 1.00\n"
     ]
    },
    {
     "name": "stdin",
     "output_type": "stream",
     "text": [
      "Enter Password: Hello1234567\n"
     ]
    },
    {
     "name": "stdout",
     "output_type": "stream",
     "text": [
      "Password: Hello1234567 | Strength: Medium\n"
     ]
    }
   ],
   "source": [
    "import pandas as pd\n",
    "import numpy as np\n",
    "from sklearn.model_selection import train_test_split\n",
    "from xgboost import XGBClassifier\n",
    "from sklearn.metrics import accuracy_score\n",
    "def extract_features(passwords):\n",
    "    features = []\n",
    "    for pwd in passwords:\n",
    "        features.append([\n",
    "            len(pwd),                              # Total length\n",
    "            sum(1 for c in pwd if c.isupper()),    # Uppercase count\n",
    "            sum(1 for c in pwd if c.islower()),    # Lowercase count\n",
    "            sum(1 for c in pwd if c.isdigit()),    # Digit count\n",
    "            sum(1 for c in pwd if not c.isalnum()) # Special chars\n",
    "        ])\n",
    "    return np.array(features)\n",
    "\n",
    "# 2. Load your data (replace with your actual data loading)\n",
    "data = pd.read_csv(\"data.csv\", on_bad_lines='skip').dropna()\n",
    "\n",
    "# Map strength to numerical values for XGBoost\n",
    "label_map = {\"Weak\": 0, \"Medium\": 1, \"Strong\": 2}\n",
    "data[\"strength\"] = data[\"strength\"].map({0: \"Weak\", 1: \"Medium\", 2: \"Strong\"})  # First map to strings if needed\n",
    "data[\"strength\"] = data[\"strength\"].map(label_map)  # Then map to numbers\n",
    "\n",
    "# 3. Create features\n",
    "X = extract_features(data[\"password\"])\n",
    "y = data[\"strength\"]\n",
    "\n",
    "# 4. Train-test split\n",
    "X_train, X_test, y_train, y_test = train_test_split(X, y, test_size=0.2, random_state=42)\n",
    "\n",
    "# 5. Train model\n",
    "model = XGBClassifier(n_estimators=100, n_jobs=-1)\n",
    "model.fit(X_train, y_train)\n",
    "\n",
    "y_pred = model.predict(X_test)\n",
    "accuracy = accuracy_score(y_test, y_pred)\n",
    "print(f\"Model Accuracy: {accuracy:.2f}\")\n",
    "\n",
    "# 6. Prediction function with label mapping back to strings\n",
    "def predict_strength(password):\n",
    "    features = extract_features([password])\n",
    "    pred = model.predict(features)[0]\n",
    "    return {0: \"Weak\", 1: \"Medium\", 2: \"Strong\"}[pred]\n",
    "\n",
    "# --- TEST YOUR PASSWORD ---\n",
    "user_password = input(\"Enter Password:\")\n",
    "print(f\"Password: {user_password} | Strength: {predict_strength(user_password)}\")"
   ]
  },
  {
   "cell_type": "code",
   "execution_count": null,
   "id": "9d6f8b79-85ee-49e5-86e3-c1534fa2745d",
   "metadata": {},
   "outputs": [],
   "source": []
  }
 ],
 "metadata": {
  "kernelspec": {
   "display_name": "Python 3 (ipykernel)",
   "language": "python",
   "name": "python3"
  },
  "language_info": {
   "codemirror_mode": {
    "name": "ipython",
    "version": 3
   },
   "file_extension": ".py",
   "mimetype": "text/x-python",
   "name": "python",
   "nbconvert_exporter": "python",
   "pygments_lexer": "ipython3",
   "version": "3.12.4"
  }
 },
 "nbformat": 4,
 "nbformat_minor": 5
}
